{
 "cells": [
  {
   "cell_type": "code",
   "execution_count": null,
   "id": "70ca5833-e577-4243-87e0-688f5e2d92d0",
   "metadata": {},
   "outputs": [],
   "source": [
    "# Personal Details"
   ]
  },
  {
   "cell_type": "code",
   "execution_count": 1,
   "id": "66da36fe-a181-4955-9b5b-01c83a222b31",
   "metadata": {
    "tags": []
   },
   "outputs": [
    {
     "name": "stdout",
     "output_type": "stream",
     "text": [
      "{'Name': 'Doroth Chaniko', 'Age': 30, 'Country': 'USA', 'Marital_status': 'Married'}\n"
     ]
    }
   ],
   "source": [
    "person_info = {\n",
    "    \"Name\": \"Doroth Chaniko\",\n",
    "    \"Age\": 30,\n",
    "    \"Country\": \"USA\",\n",
    "    \"Marital_status\": \"Married\"\n",
    "}\n",
    "\n",
    "print(person_info)\n"
   ]
  },
  {
   "cell_type": "code",
   "execution_count": null,
   "id": "88bbd66a-3b98-444b-a41e-f71e19657a00",
   "metadata": {},
   "outputs": [],
   "source": []
  }
 ],
 "metadata": {
  "kernelspec": {
   "display_name": "Python 3 (ipykernel)",
   "language": "python",
   "name": "python3"
  },
  "language_info": {
   "codemirror_mode": {
    "name": "ipython",
    "version": 3
   },
   "file_extension": ".py",
   "mimetype": "text/x-python",
   "name": "python",
   "nbconvert_exporter": "python",
   "pygments_lexer": "ipython3",
   "version": "3.11.5"
  }
 },
 "nbformat": 4,
 "nbformat_minor": 5
}
