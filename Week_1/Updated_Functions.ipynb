{
 "cells": [
  {
   "cell_type": "markdown",
   "id": "c5afa4e8-6eda-4684-99f7-500b144df3e0",
   "metadata": {},
   "source": [
    "# Functions in Python "
   ]
  },
  {
   "cell_type": "markdown",
   "id": "2b8d9528-b959-44f9-804f-3b4ad56dcfc6",
   "metadata": {},
   "source": [
    "- A function is a block of reusable code that performs a specific task or a function is a block of code which only runs when it is called.\n",
    "- Functions allow us to break a large program into smaller, modular, and manageable parts.\n",
    "- You can pass data, known as parameters, into a function.\n",
    "- A function can return data as a result.\n",
    "\n",
    "Python has two types of functions:\n",
    "\n",
    "- Built-in Functions – e.g., print(), len(), sum(), max(), etc.\n",
    "- User-defined Functions – Created by the user using the def keyword."
   ]
  },
  {
   "cell_type": "markdown",
   "id": "b8e58076-28b5-4a19-a3a5-2342a30d11fb",
   "metadata": {},
   "source": [
    "# Why Use Functions?"
   ]
  },
  {
   "cell_type": "markdown",
   "id": "ab70d8ab-17c4-47e1-9ee5-222dc6949ae7",
   "metadata": {},
   "source": [
    "- Code reusability – Avoid repeating code.\n",
    "- Modularity – Divide code into smaller parts.\n",
    "- Readability – Easier to understand.\n",
    "- Debugging – Simplifies error detection and fixes.\n",
    "- Scalability – Makes the program easier to expand."
   ]
  },
  {
   "cell_type": "markdown",
   "id": "dc426a8c-2858-433e-a33b-f72e9ebb1dd4",
   "metadata": {},
   "source": [
    "## Creating a Function"
   ]
  },
  {
   "cell_type": "markdown",
   "id": "f9086950-b298-4d3b-a65d-feb314111040",
   "metadata": {},
   "source": [
    "In Python a function is defined using the def keyword. "
   ]
  },
  {
   "cell_type": "code",
   "execution_count": 1,
   "id": "d50d6c56-2ccc-427a-a488-5a85d52fad9e",
   "metadata": {},
   "outputs": [],
   "source": [
    "def my_function():\n",
    "  print(\"Hello, welcome to Python functions!\")"
   ]
  },
  {
   "cell_type": "code",
   "execution_count": 5,
   "id": "2b791f90-e3fd-4ef8-9564-18ed2acc8279",
   "metadata": {},
   "outputs": [
    {
     "name": "stdout",
     "output_type": "stream",
     "text": [
      "Sum is 325\n",
      "Sum is 249\n"
     ]
    }
   ],
   "source": [
    "numbers = [23,45,67,67,78,45]\n",
    "numbers2 = [34,56,78,6,7,23,45]\n",
    "numbers3 = [45,45,56,67,7,9,4]\n",
    "numbers4 = [45,56,23,45,6,7,8]\n",
    "\n",
    "total = 0\n",
    "for num in numbers:\n",
    "    total += num\n",
    "print (\"Sum is\", total)\n",
    "\n",
    "total1 = 0\n",
    "for num in numbers2:\n",
    "    total1 += num\n",
    "print (\"Sum is\", total1)\n",
    "\n",
    "\n"
   ]
  },
  {
   "cell_type": "code",
   "execution_count": 7,
   "id": "bb849ffa-44e2-43e4-9e5a-390c6fbb73fe",
   "metadata": {},
   "outputs": [
    {
     "name": "stdout",
     "output_type": "stream",
     "text": [
      "Sum is 325\n",
      "Sum is 249\n",
      "Sum is 233\n",
      "Sum is 190\n"
     ]
    }
   ],
   "source": [
    "def adding_numbers (numbers):\n",
    "    total = 0\n",
    "    for num in numbers:\n",
    "        total += num\n",
    "    print (\"Sum is\", total)\n",
    "\n",
    "adding_numbers(numbers)\n",
    "adding_numbers(numbers2)\n",
    "adding_numbers(numbers3)\n",
    "adding_numbers(numbers4)\n"
   ]
  },
  {
   "cell_type": "markdown",
   "id": "2522ce4e-5a2a-4bfb-aa28-51d60062bc09",
   "metadata": {},
   "source": [
    "## Calling a Function"
   ]
  },
  {
   "cell_type": "code",
   "execution_count": 2,
   "id": "9518329f-71c1-4973-a531-02bafbdf7e7f",
   "metadata": {},
   "outputs": [
    {
     "name": "stdout",
     "output_type": "stream",
     "text": [
      "Hello, welcome to Python functions!\n"
     ]
    }
   ],
   "source": [
    "def my_function():\n",
    "  print(\"Hello, welcome to Python functions!\")\n",
    "\n",
    "my_function()"
   ]
  },
  {
   "cell_type": "markdown",
   "id": "48016eb5-53cf-4366-8ff7-4e26d2005bd3",
   "metadata": {},
   "source": [
    "## Parameters and Arguments"
   ]
  },
  {
   "cell_type": "markdown",
   "id": "a3494156-e479-488b-9ce4-e8a42230cc22",
   "metadata": {},
   "source": [
    "- Parameters are variables listed inside the parentheses in the function definition\n",
    "- Arguments are the actual values passed to a function when it is called.\n",
    "- Information can be passed into functions as arguments. \n",
    "- Parameters are specified after the function name, inside the parentheses. You can add as many Parameters and arguments as you want, just separate them with a comma."
   ]
  },
  {
   "cell_type": "code",
   "execution_count": 7,
   "id": "bb386003-a835-4066-9c72-dd2e4fd63f5a",
   "metadata": {},
   "outputs": [
    {
     "name": "stdout",
     "output_type": "stream",
     "text": [
      "Emil Waweru\n",
      "Tobias Waweru\n",
      "Linus Waweru\n"
     ]
    }
   ],
   "source": [
    "def my_function(name):\n",
    "  print(name + \" \" + \"Waweru\", end=\"\\n\", sep = \" \")\n",
    "\n",
    "my_function(\"Emil\")\n",
    "my_function(\"Tobias\")\n",
    "my_function(\"Linus\")"
   ]
  },
  {
   "cell_type": "markdown",
   "id": "6f6d8427-8c5b-4cb6-8692-972c209db7e1",
   "metadata": {},
   "source": [
    "## Number of Arguments"
   ]
  },
  {
   "cell_type": "markdown",
   "id": "de3ce867-d299-4178-9633-1773bab8c23b",
   "metadata": {},
   "source": [
    "By default, a function must be called with the correct number of arguments. Meaning that if your function expects 2 arguments, you have to call the function with 2 arguments, not more, and not less."
   ]
  },
  {
   "cell_type": "code",
   "execution_count": 8,
   "id": "77479c25-973a-4503-8083-3d97b42099be",
   "metadata": {},
   "outputs": [
    {
     "name": "stdout",
     "output_type": "stream",
     "text": [
      "Emil Waweru\n"
     ]
    }
   ],
   "source": [
    "def my_function(fname, lname):\n",
    "  print(fname + \" \" + lname)\n",
    "\n",
    "my_function(\"Emil\", \"Waweru\")"
   ]
  },
  {
   "cell_type": "markdown",
   "id": "ed593105-f3ed-469a-81a3-61519a66c8fc",
   "metadata": {},
   "source": [
    "## Arbitrary Arguments, *args"
   ]
  },
  {
   "cell_type": "markdown",
   "id": "a2b398da-8716-4818-8645-9c9e06a28110",
   "metadata": {},
   "source": [
    "If the number of arguments is unknown, add a * before the parameter name"
   ]
  },
  {
   "cell_type": "code",
   "execution_count": 9,
   "id": "1035a274-6406-4715-b177-9fae1cef9cbf",
   "metadata": {},
   "outputs": [
    {
     "name": "stdout",
     "output_type": "stream",
     "text": [
      "20\n",
      "34\n"
     ]
    }
   ],
   "source": [
    "def add_numbers(*numbers):\n",
    "    return sum(numbers)\n",
    "\n",
    "print (add_numbers(2,3,4,5,6))\n",
    "print (add_numbers(4,6,7,8,9))\n",
    "       "
   ]
  },
  {
   "cell_type": "markdown",
   "id": "e8b829a7-58b8-4f93-b669-d19e60f97700",
   "metadata": {},
   "source": [
    "## Keyword Arguments"
   ]
  },
  {
   "cell_type": "markdown",
   "id": "5634c89f-22e7-4359-acb7-029fac8e5e7c",
   "metadata": {},
   "source": [
    "You can also send arguments with the key = value syntax.\n",
    "\n",
    "This way the order of the arguments does not matter."
   ]
  },
  {
   "cell_type": "code",
   "execution_count": 1,
   "id": "74983247-fc43-4882-869a-1a9f383ebbea",
   "metadata": {},
   "outputs": [
    {
     "name": "stdout",
     "output_type": "stream",
     "text": [
      "The youngest child is Samuel\n"
     ]
    }
   ],
   "source": [
    "def my_function(child3, child2, child1):\n",
    "  print(\"The youngest child is \" + child3)\n",
    "\n",
    "my_function(child1 = \"Jamas\", child2 = \"Ken\", child3 = \"Samuel\")"
   ]
  },
  {
   "cell_type": "markdown",
   "id": "e7e0abf7-bd77-41b7-ba40-09ec93be16de",
   "metadata": {},
   "source": [
    "## Arbitrary Keyword Arguments, **kwargs"
   ]
  },
  {
   "cell_type": "markdown",
   "id": "18541d5e-163f-4003-b7b4-e1ce23d5cc7c",
   "metadata": {},
   "source": [
    "If you do not know how many keyword arguments that will be passed into your function, add two asterisk: ** before the parameter name in the function definition.\n",
    "\n",
    "This way the function will receive a dictionary of arguments, and can access the items accordingly"
   ]
  },
  {
   "cell_type": "code",
   "execution_count": 2,
   "id": "e73cfb70-fcd9-4fd7-abd0-16300ddbb409",
   "metadata": {},
   "outputs": [
    {
     "name": "stdout",
     "output_type": "stream",
     "text": [
      "His last name is Waweru\n"
     ]
    }
   ],
   "source": [
    "def my_function(**kid):\n",
    "  print(\"His last name is \" + kid[\"lname\"])\n",
    "\n",
    "my_function(fname = \"Shem\", lname = \"Waweru\")"
   ]
  },
  {
   "cell_type": "markdown",
   "id": "ad3c16f4-f267-42bc-a7e0-e6bb029545a8",
   "metadata": {},
   "source": [
    "## Default Parameter Value"
   ]
  },
  {
   "cell_type": "markdown",
   "id": "7dbe834f-7dda-45d0-ab5b-5e90096c1bc1",
   "metadata": {},
   "source": [
    "The following example shows how to use a default parameter value.\n",
    "\n",
    "If we call the function without argument, it uses the default value. "
   ]
  },
  {
   "cell_type": "code",
   "execution_count": 9,
   "id": "8a541062-5641-40e1-8131-c8e814ec9091",
   "metadata": {},
   "outputs": [
    {
     "name": "stdout",
     "output_type": "stream",
     "text": [
      "I am from Sweden\n",
      "I am from India\n",
      "I am from Norway\n",
      "I am from Brazil\n"
     ]
    }
   ],
   "source": [
    "def my_function(country = \"Norway\"):\n",
    "  print(\"I am from \" + country)\n",
    "\n",
    "my_function(\"Sweden\")\n",
    "my_function(\"India\")\n",
    "my_function()\n",
    "my_function(\"Brazil\")"
   ]
  },
  {
   "cell_type": "markdown",
   "id": "b3953ff8-7b93-4b25-bdb4-bd6ae29febc3",
   "metadata": {},
   "source": [
    "## Passing a List as an Argument"
   ]
  },
  {
   "cell_type": "markdown",
   "id": "d9aa3ff8-cb8e-4b05-b08b-ea875f8c4cf0",
   "metadata": {},
   "source": [
    "You can send any data types of argument to a function (string, number, list, dictionary etc.), and it will be treated as the same data type inside the function.\n",
    "\n",
    "E.g. if you send a List as an argument, it will still be a List when it reaches the function. "
   ]
  },
  {
   "cell_type": "code",
   "execution_count": 10,
   "id": "fa87ed56-bf68-418d-8185-b190e1c6ec8f",
   "metadata": {},
   "outputs": [
    {
     "name": "stdout",
     "output_type": "stream",
     "text": [
      "apple\n",
      "banana\n",
      "cherry\n"
     ]
    }
   ],
   "source": [
    "def my_function(food):\n",
    "  for x in food:\n",
    "    print(x)\n",
    "\n",
    "fruits = [\"apple\", \"banana\", \"cherry\"]\n",
    "\n",
    "my_function(fruits)"
   ]
  },
  {
   "cell_type": "markdown",
   "id": "fa236fea-4655-45a0-ab88-a775540194ba",
   "metadata": {},
   "source": [
    "## Return Values"
   ]
  },
  {
   "cell_type": "markdown",
   "id": "66dc7223-11b1-42f2-a17a-002ab12f6a05",
   "metadata": {},
   "source": [
    "To let a function return a value, use the return statement"
   ]
  },
  {
   "cell_type": "code",
   "execution_count": 11,
   "id": "d340a06a-ec15-49f9-86c9-9068f8ecd6ed",
   "metadata": {},
   "outputs": [
    {
     "name": "stdout",
     "output_type": "stream",
     "text": [
      "15\n",
      "25\n",
      "45\n"
     ]
    }
   ],
   "source": [
    "def my_function(x):\n",
    "  return 5 * x\n",
    "\n",
    "print(my_function(3))\n",
    "print(my_function(5))\n",
    "print(my_function(9))"
   ]
  },
  {
   "cell_type": "markdown",
   "id": "2a53bf5e-0cef-4383-9a5b-3ccd43b9b375",
   "metadata": {},
   "source": [
    "# Exercises"
   ]
  },
  {
   "cell_type": "markdown",
   "id": "57f8aec4-a54f-453b-b8e2-948c9db3081c",
   "metadata": {},
   "source": [
    "## Exercise 1"
   ]
  },
  {
   "cell_type": "markdown",
   "id": "49b57ef2-d10a-4960-8161-f71ca295e087",
   "metadata": {},
   "source": [
    "Write a function calculate_mean() that takes a list of numbers and returns the mean (average)"
   ]
  },
  {
   "cell_type": "code",
   "execution_count": 8,
   "id": "aabb013a-75ae-47f3-b05e-abb94b21be34",
   "metadata": {},
   "outputs": [
    {
     "name": "stdout",
     "output_type": "stream",
     "text": [
      "30.0\n"
     ]
    }
   ],
   "source": [
    "def calculate_mean(numbers):\n",
    "    \n",
    "    if not numbers:  # Check if the list is empty\n",
    "        return None  # Return None for an empty list to avoid division by zero\n",
    "\n",
    "    output = sum(numbers) / len(numbers)\n",
    "\n",
    "    return output\n",
    "\n",
    "# Example usage:\n",
    "numbers = [10, 20, 30, 40, 50]\n",
    "print(calculate_mean(numbers))"
   ]
  },
  {
   "cell_type": "markdown",
   "id": "f2f46127-d8f2-4479-be55-cce1d2faf576",
   "metadata": {},
   "source": [
    "## Exercise 2"
   ]
  },
  {
   "cell_type": "markdown",
   "id": "1e34e23e-d9eb-4e00-a1dc-4c75dea26825",
   "metadata": {},
   "source": [
    "Write a function that checks if a number is even or odd."
   ]
  },
  {
   "cell_type": "code",
   "execution_count": 9,
   "id": "c48dbd93-cd89-464b-b7b9-5e1d81be713f",
   "metadata": {},
   "outputs": [
    {
     "name": "stdout",
     "output_type": "stream",
     "text": [
      "Even\n",
      "Odd\n"
     ]
    }
   ],
   "source": [
    "def check_even_odd(number):\n",
    "    \n",
    "    if number % 2 == 0:\n",
    "        return \"Even\"\n",
    "    else:\n",
    "        return \"Odd\"\n",
    "\n",
    "# Example usage:\n",
    "print(check_even_odd(10))  # Output: Even\n",
    "print(check_even_odd(7))   # Output: Odd"
   ]
  },
  {
   "cell_type": "markdown",
   "id": "c021719e-6ebb-4507-9e68-1b3a716476b0",
   "metadata": {},
   "source": [
    "## Exercise 3"
   ]
  },
  {
   "cell_type": "markdown",
   "id": "50c14987-5d7d-4fa5-b0f9-57c957a4acae",
   "metadata": {},
   "source": [
    "Write a function that finds the maximum of three numbers"
   ]
  },
  {
   "cell_type": "code",
   "execution_count": 10,
   "id": "a617edad-d509-4090-85c9-4d1f9b272fdb",
   "metadata": {},
   "outputs": [
    {
     "name": "stdout",
     "output_type": "stream",
     "text": [
      "25\n",
      "0\n"
     ]
    }
   ],
   "source": [
    "def find_maximum(a, b, c):\n",
    "    output = max(a, b, c)\n",
    "\n",
    "    return output\n",
    "\n",
    "# Example usage:\n",
    "print(find_maximum(10, 25, 15))  # Output: 25\n",
    "print(find_maximum(-5, 0, -10))  # Output: 0"
   ]
  },
  {
   "cell_type": "markdown",
   "id": "bc7e5126-78a1-46f2-aed8-a3c929a15697",
   "metadata": {},
   "source": [
    "## Exercise 4"
   ]
  },
  {
   "cell_type": "markdown",
   "id": "a1b410b2-a638-43d7-9190-97734846a5f2",
   "metadata": {},
   "source": [
    "Write a function standard_deviation() that calculates the standard deviation of a given list of numbers.\n",
    "\n",
    "Hint: \n",
    "\n",
    "import math\n",
    "\n",
    "def standard_deviation(numbers):\n",
    "    \n",
    "    # your code goes here"
   ]
  },
  {
   "cell_type": "code",
   "execution_count": null,
   "id": "d484b3c2-f0fb-40e3-8c0d-efb99039e39b",
   "metadata": {},
   "outputs": [],
   "source": [
    "import math\n",
    "\n",
    "def standard_deviation(numbers):\n",
    "    \n",
    "    if not numbers or len(numbers) < 2:\n",
    "        return None  # Standard deviation is undefined for empty or single-value lists\n",
    "\n",
    "    mean = sum(numbers) / len(numbers)\n",
    "    variance = sum((x - mean) ** 2 for x in numbers) / len(numbers)  # Population variance\n",
    "    std_dev = math.sqrt(variance)\n",
    "\n",
    "    return std_dev\n",
    "\n",
    "# Example usage:\n",
    "numbers = [10, 12, 23, 23, 16, 23, 21, 16]\n",
    "print(standard_deviation(numbers)) "
   ]
  },
  {
   "cell_type": "markdown",
   "id": "fd50a6ce-e509-416f-a218-8095e3a42c70",
   "metadata": {},
   "source": [
    "## Exercise 5"
   ]
  },
  {
   "cell_type": "markdown",
   "id": "87a0446b-0855-44c0-aa09-72f345d1cc17",
   "metadata": {},
   "source": [
    "Data cleaning often requires identifying unique values in a dataset. Write a function count_unique() that takes a list and returns a dictionary of unique values and their counts."
   ]
  },
  {
   "cell_type": "code",
   "execution_count": 12,
   "id": "dab26c1d-7c50-4632-9b9c-bf459fbb0928",
   "metadata": {},
   "outputs": [
    {
     "name": "stdout",
     "output_type": "stream",
     "text": [
      "{10: 3, 20: 2, 30: 2, 40: 1, 50: 1}\n"
     ]
    }
   ],
   "source": [
    "def count_unique(values):\n",
    "    unique_counts = {}\n",
    "\n",
    "    for value in values:\n",
    "        unique_counts[value] = unique_counts.get(value, 0) + 1\n",
    "\n",
    "    return unique_counts\n",
    "\n",
    "# Example usage:\n",
    "data = [10, 20, 10, 30, 40, 20, 10, 50, 30]\n",
    "print(count_unique(data))\n"
   ]
  },
  {
   "cell_type": "markdown",
   "id": "2591076d-b09d-40b7-967c-ca3db67085ab",
   "metadata": {},
   "source": [
    "## Exercise 6"
   ]
  },
  {
   "cell_type": "markdown",
   "id": "0c3fc0ad-7fa3-4eb7-a119-9c4c0f7ef0f7",
   "metadata": {},
   "source": [
    "Write a function compute_basic_statistics() that calculates the mean, median, and mode of a given dataset."
   ]
  },
  {
   "cell_type": "code",
   "execution_count": 14,
   "id": "3d887bc7-3b9b-4993-af0d-54eb291901db",
   "metadata": {},
   "outputs": [
    {
     "name": "stdout",
     "output_type": "stream",
     "text": [
      "{'mean': 27.142857142857142, 'median': 20, 'mode': 20}\n"
     ]
    }
   ],
   "source": [
    "import statistics\n",
    "\n",
    "def compute_basic_statistics(data):   \n",
    "    if not data:\n",
    "        return None  # Return None if the dataset is empty\n",
    "\n",
    "    mean_value = sum(data) / len(data)  # Calculate mean\n",
    "    median_value = statistics.median(data)  # Calculate median\n",
    "    try:\n",
    "        mode_value = statistics.mode(data)  # Calculate mode\n",
    "    except statistics.StatisticsError:\n",
    "        mode_value = None  # Handle cases where no unique mode exists\n",
    "\n",
    "    return {\n",
    "        \"mean\": mean_value,\n",
    "        \"median\": median_value,\n",
    "        \"mode\": mode_value\n",
    "    }\n",
    "# Example usage:\n",
    "dataset = [10, 20, 20, 30, 40, 50, 20]\n",
    "print(compute_basic_statistics(dataset))\n",
    "\n",
    "\n"
   ]
  },
  {
   "cell_type": "markdown",
   "id": "1d5985b7-5cb8-41e3-b500-ab14b30c0ef8",
   "metadata": {},
   "source": [
    "## Exercise 7"
   ]
  },
  {
   "cell_type": "markdown",
   "id": "8fca215c-71b0-4031-af5f-2235c882896c",
   "metadata": {},
   "source": [
    "Write a function compute_variability() that calculates range, variance, and standard deviation."
   ]
  },
  {
   "cell_type": "code",
   "execution_count": null,
   "id": "5eaa7a76-5f23-4b13-8abf-093724909118",
   "metadata": {},
   "outputs": [],
   "source": [
    "import math\n",
    "\n",
    "def compute_variability(data):    \n",
    "    if not data or len(data) < 2:\n",
    "        return None  # Variance and standard deviation require at least two values\n",
    "\n",
    "    # Calculate Range\n",
    "    min_value = min(data)\n",
    "    max_value = max(data)\n",
    "    range_value = max_value - min_value\n",
    "\n",
    "    # Calculate Mean\n",
    "    total_sum = sum(data)\n",
    "    count = len(data)\n",
    "    mean_value = total_sum / count\n",
    "\n",
    "    # Calculate Variance (Population variance)\n",
    "    variance_value = sum((x - mean_value) ** 2 for x in data) / count\n",
    "\n",
    "    # Calculate Standard Deviation\n",
    "    std_dev_value = math.sqrt(variance_value)\n",
    "\n",
    "    return {\n",
    "        \"range\": range_value,\n",
    "        \"variance\": variance_value,\n",
    "        \"standard_deviation\": std_dev_value\n",
    "    }\n",
    "\n",
    "# Example usage:\n",
    "dataset = [10, 12, 23, 23, 16, 23, 21, 16]\n",
    "\n",
    "print(compute_variability(dataset))"
   ]
  },
  {
   "cell_type": "markdown",
   "id": "754a07c6-0b52-476a-81cd-8548f95babc0",
   "metadata": {},
   "source": [
    "## Exercise 8"
   ]
  },
  {
   "cell_type": "markdown",
   "id": "a3198d23-b8d9-468d-bf66-efb1336b40de",
   "metadata": {},
   "source": [
    "Write a function compute_iqr() that calculates the interquartile range (IQR)"
   ]
  },
  {
   "cell_type": "code",
   "execution_count": 15,
   "id": "e50d9fd4-30e3-4950-868e-f5ec14aafdf5",
   "metadata": {},
   "outputs": [
    {
     "name": "stdout",
     "output_type": "stream",
     "text": [
      "9.0\n"
     ]
    }
   ],
   "source": [
    "def compute_iqr(data):\n",
    "    \n",
    "    if not data or len(data) < 2:\n",
    "        return None  # IQR requires at least two values\n",
    "\n",
    "    # Sort the data\n",
    "    sorted_data = sorted(data)\n",
    "    n = len(sorted_data)\n",
    "\n",
    "    # Function to calculate the median of a given list\n",
    "    def median(lst):\n",
    "        mid = len(lst) // 2\n",
    "        if len(lst) % 2 == 0:\n",
    "            return (lst[mid - 1] + lst[mid]) / 2\n",
    "        else:\n",
    "            return lst[mid]\n",
    "\n",
    "    # Split the data into lower and upper halves\n",
    "    if n % 2 == 0:\n",
    "        lower_half = sorted_data[:n // 2]  # Lower half (Q1 set)\n",
    "        upper_half = sorted_data[n // 2:]  # Upper half (Q3 set)\n",
    "    else:\n",
    "        lower_half = sorted_data[:n // 2]  # Exclude the median\n",
    "        upper_half = sorted_data[n // 2 + 1:]  # Exclude the median\n",
    "\n",
    "    # Compute Q1 and Q3\n",
    "    Q1 = median(lower_half)\n",
    "    Q3 = median(upper_half)\n",
    "\n",
    "    # Compute IQR\n",
    "    IQR = Q3 - Q1\n",
    "\n",
    "    return IQR\n",
    "\n",
    "# Example usage:\n",
    "dataset = [10, 12, 23, 23, 16, 23, 21, 16]\n",
    "print(compute_iqr(dataset))"
   ]
  },
  {
   "cell_type": "markdown",
   "id": "2e9dabbd-8401-4429-b4ae-fcd5c6a3380b",
   "metadata": {},
   "source": [
    "## Exercise 9"
   ]
  },
  {
   "cell_type": "markdown",
   "id": "40dc52de-766d-4ac3-91fc-50fad7bc7bbb",
   "metadata": {},
   "source": [
    "Write a function compute_percentiles() that returns the 25th, 50th (median), and 75th percentiles. "
   ]
  },
  {
   "cell_type": "code",
   "execution_count": 16,
   "id": "bdcf7ac8-0bb7-47a2-9590-f6211b6ba2b8",
   "metadata": {},
   "outputs": [
    {
     "name": "stdout",
     "output_type": "stream",
     "text": [
      "{'25th_percentile': 14.0, '50th_percentile (median)': 18.5, '75th_percentile': 23.0}\n"
     ]
    }
   ],
   "source": [
    "def compute_percentiles(data):\n",
    "    \n",
    "    if not data or len(data) < 2:\n",
    "        return None  # Percentiles require at least two values\n",
    "\n",
    "    # Sort the data\n",
    "    sorted_data = sorted(data)\n",
    "    n = len(sorted_data)\n",
    "\n",
    "    # Function to calculate the median of a given list\n",
    "    def median(lst):\n",
    "        mid = len(lst) // 2\n",
    "        if len(lst) % 2 == 0:\n",
    "            return (lst[mid - 1] + lst[mid]) / 2\n",
    "        else:\n",
    "            return lst[mid]\n",
    "\n",
    "    # Compute the 50th percentile (Median)\n",
    "    p50 = median(sorted_data)\n",
    "\n",
    "    # Compute Q1 (25th percentile)\n",
    "    if n % 2 == 0:\n",
    "        lower_half = sorted_data[:n // 2]\n",
    "    else:\n",
    "        lower_half = sorted_data[:n // 2]  # Exclude the median\n",
    "\n",
    "    p25 = median(lower_half)\n",
    "\n",
    "    # Compute Q3 (75th percentile)\n",
    "    if n % 2 == 0:\n",
    "        upper_half = sorted_data[n // 2:]\n",
    "    else:\n",
    "        upper_half = sorted_data[n // 2 + 1:]  # Exclude the median\n",
    "\n",
    "    p75 = median(upper_half)\n",
    "\n",
    "    return {\n",
    "        \"25th_percentile\": p25,\n",
    "        \"50th_percentile (median)\": p50,\n",
    "        \"75th_percentile\": p75\n",
    "    }\n",
    "\n",
    "# Example usage:\n",
    "dataset = [10, 12, 23, 23, 16, 23, 21, 16]\n",
    "print(compute_percentiles(dataset))\n"
   ]
  },
  {
   "cell_type": "code",
   "execution_count": null,
   "id": "7bad6cce-6d12-454b-8399-f5e715af1c49",
   "metadata": {},
   "outputs": [],
   "source": [
    "# OR"
   ]
  },
  {
   "cell_type": "code",
   "execution_count": 1,
   "id": "da6023b2-0667-4f95-8d48-1cf8ced24db2",
   "metadata": {
    "tags": []
   },
   "outputs": [
    {
     "name": "stdout",
     "output_type": "stream",
     "text": [
      "25th Percentile: 30, Median: 50, 75th Percentile: 70\n"
     ]
    }
   ],
   "source": [
    "def compute_percentiles(data):\n",
    "    data_sorted = sorted(data)\n",
    "    \n",
    "    def median(data):\n",
    "        n = len(data)\n",
    "        if n % 2 == 1:\n",
    "            return data[n // 2]\n",
    "        return (data[n // 2 - 1] + data[n // 2]) / 2\n",
    "    \n",
    "    def percentile(data, p):\n",
    "        index = int((p / 100) * (len(data) - 1))\n",
    "        return data_sorted[index]\n",
    "    \n",
    "    return percentile(data_sorted, 25), median(data_sorted), percentile(data_sorted, 75)\n",
    "# Example\n",
    "data = [10, 20, 30, 40, 50, 60, 70, 80, 90]\n",
    "q25, median_value, q75 = compute_percentiles(data)\n",
    "print(f\"25th Percentile: {q25}, Median: {median_value}, 75th Percentile: {q75}\")"
   ]
  },
  {
   "cell_type": "code",
   "execution_count": null,
   "id": "723a5af7-5000-4614-a8a5-568e041c8244",
   "metadata": {},
   "outputs": [],
   "source": []
  }
 ],
 "metadata": {
  "kernelspec": {
   "display_name": "Python 3 (ipykernel)",
   "language": "python",
   "name": "python3"
  },
  "language_info": {
   "codemirror_mode": {
    "name": "ipython",
    "version": 3
   },
   "file_extension": ".py",
   "mimetype": "text/x-python",
   "name": "python",
   "nbconvert_exporter": "python",
   "pygments_lexer": "ipython3",
   "version": "3.11.5"
  }
 },
 "nbformat": 4,
 "nbformat_minor": 5
}
