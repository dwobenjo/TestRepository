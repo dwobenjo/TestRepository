{
 "cells": [
  {
   "cell_type": "markdown",
   "id": "4fed0065-2bc1-41d5-8933-b7ad396cb287",
   "metadata": {},
   "source": [
    "# Data Cleaning"
   ]
  },
  {
   "cell_type": "markdown",
   "id": "3cbb5f2f-f703-4fe5-a9df-df8b22e9beec",
   "metadata": {},
   "source": [
    "Data cleaning, also known as data cleansing or data scrubbing, is the process of identifying and correcting (or removing) errors, inconsistencies, and inaccuracies in datasets. It ensures that the data is accurate, complete, and reliable for analysis and decision-making."
   ]
  },
  {
   "cell_type": "code",
   "execution_count": 15,
   "id": "5c8bc9b9-39a4-4e33-99e0-2c85785f086d",
   "metadata": {},
   "outputs": [
    {
     "name": "stdout",
     "output_type": "stream",
     "text": [
      "     ID     Name   Age    Salary  Join_Date        Country  Experience_Years  \\\n",
      "0  1002    David  35.0  1.000000 2020-12-05  United States                 5   \n",
      "1  1003      Eve  25.0  0.333333 2020-12-05         Mexico                 3   \n",
      "2  1005  Charlie  30.0  0.333333 2021-01-10  United States                 5   \n",
      "3  1006      Eve  40.0  0.511167 2021-01-10         Canada                 5   \n",
      "4  1007      Eve  30.0  0.511167 2021-03-15         Canada                 3   \n",
      "\n",
      "   Department_Finance  Department_HR  Department_IT  Department_nan  \n",
      "0                   0              0            0.0               1  \n",
      "1                   0              1            0.0               0  \n",
      "2                   0              0            0.0               1  \n",
      "3                   0              0            1.0               0  \n",
      "4                   0              0            1.0               0  \n"
     ]
    }
   ],
   "source": [
    "import pandas as pd\n",
    "\n",
    "# Load an Excel file\n",
    "df = pd.read_excel(\"raw_large_dataset.xlsx\", sheet_name=\"Sheet1\")\n",
    "\n",
    "# Display first few rows\n",
    "print(df.head())"
   ]
  },
  {
   "cell_type": "code",
   "execution_count": 16,
   "id": "7b560448-9d49-4226-9269-1edaa487aacc",
   "metadata": {},
   "outputs": [
    {
     "data": {
      "text/plain": [
       "ID                     0\n",
       "Name                   0\n",
       "Age                   11\n",
       "Salary                 9\n",
       "Join_Date              0\n",
       "Country                0\n",
       "Experience_Years       0\n",
       "Department_Finance     0\n",
       "Department_HR          0\n",
       "Department_IT          7\n",
       "Department_nan         0\n",
       "dtype: int64"
      ]
     },
     "execution_count": 16,
     "metadata": {},
     "output_type": "execute_result"
    }
   ],
   "source": [
    "# Check missing values\n",
    "missing_values = df.isnull().sum()\n",
    "missing_values"
   ]
  },
  {
   "cell_type": "code",
   "execution_count": 17,
   "id": "20b430e5-67fb-48bf-b92e-a2905c5ad81b",
   "metadata": {},
   "outputs": [
    {
     "name": "stderr",
     "output_type": "stream",
     "text": [
      "C:\\Users\\Fanuel\\AppData\\Local\\Temp\\ipykernel_15848\\2560028756.py:2: FutureWarning: A value is trying to be set on a copy of a DataFrame or Series through chained assignment using an inplace method.\n",
      "The behavior will change in pandas 3.0. This inplace method will never work because the intermediate object on which we are setting values always behaves as a copy.\n",
      "\n",
      "For example, when doing 'df[col].method(value, inplace=True)', try using 'df.method({col: value}, inplace=True)' or df[col] = df[col].method(value) instead, to perform the operation inplace on the original object.\n",
      "\n",
      "\n",
      "  df['Age'].fillna(df['Age'].median(), inplace=True)\n",
      "C:\\Users\\Fanuel\\AppData\\Local\\Temp\\ipykernel_15848\\2560028756.py:3: FutureWarning: A value is trying to be set on a copy of a DataFrame or Series through chained assignment using an inplace method.\n",
      "The behavior will change in pandas 3.0. This inplace method will never work because the intermediate object on which we are setting values always behaves as a copy.\n",
      "\n",
      "For example, when doing 'df[col].method(value, inplace=True)', try using 'df.method({col: value}, inplace=True)' or df[col] = df[col].method(value) instead, to perform the operation inplace on the original object.\n",
      "\n",
      "\n",
      "  df['Salary'].fillna(df['Salary'].mean(), inplace=True)\n",
      "C:\\Users\\Fanuel\\AppData\\Local\\Temp\\ipykernel_15848\\2560028756.py:4: FutureWarning: A value is trying to be set on a copy of a DataFrame or Series through chained assignment using an inplace method.\n",
      "The behavior will change in pandas 3.0. This inplace method will never work because the intermediate object on which we are setting values always behaves as a copy.\n",
      "\n",
      "For example, when doing 'df[col].method(value, inplace=True)', try using 'df.method({col: value}, inplace=True)' or df[col] = df[col].method(value) instead, to perform the operation inplace on the original object.\n",
      "\n",
      "\n",
      "  df['Department_IT'].fillna('Unknown', inplace=True)\n",
      "C:\\Users\\Fanuel\\AppData\\Local\\Temp\\ipykernel_15848\\2560028756.py:4: FutureWarning: Setting an item of incompatible dtype is deprecated and will raise an error in a future version of pandas. Value 'Unknown' has dtype incompatible with float64, please explicitly cast to a compatible dtype first.\n",
      "  df['Department_IT'].fillna('Unknown', inplace=True)\n"
     ]
    }
   ],
   "source": [
    "# Step 1: Handling Missing Data\n",
    "# You can fill the missing values using the mean,mode, median etc BUT median is the most recommended\n",
    "df['Age'].fillna(df['Age'].median(), inplace=True)\n",
    "df['Salary'].fillna(df['Salary'].mean(), inplace=True)\n",
    "df['Department_IT'].fillna('Unknown', inplace=True)"
   ]
  },
  {
   "cell_type": "code",
   "execution_count": 18,
   "id": "88d87cce-83e9-41b6-8fc3-de27e14cacc0",
   "metadata": {},
   "outputs": [],
   "source": [
    "# Step 2: Removing Duplicates\n",
    "df.drop_duplicates(subset=['ID'], keep='first', inplace=True)"
   ]
  },
  {
   "cell_type": "code",
   "execution_count": 8,
   "id": "86a52ad2-b268-4e60-b73e-4fdbfe3ed730",
   "metadata": {},
   "outputs": [],
   "source": [
    "# Step 3: Standardizing Data Formats\n",
    "df['Name'] = df['Name'].str.strip()\n",
    "df['Country'] = df['Country'].str.lower().replace({'usa': 'united states', 'canada': 'canada', 'mexico': 'mexico'})\n",
    "df['Join_Date'] = pd.to_datetime(df['Join_Date'], errors='coerce')"
   ]
  },
  {
   "cell_type": "code",
   "execution_count": 9,
   "id": "f0c53e22-2d67-4ed8-b904-aacdf9555cd7",
   "metadata": {},
   "outputs": [],
   "source": [
    "# Step 4: Correcting Inconsistent Data\n",
    "df['Country'] = df['Country'].str.title()"
   ]
  },
  {
   "cell_type": "code",
   "execution_count": null,
   "id": "b2b9565e-7c94-43ae-a66d-414e1d4b5bb8",
   "metadata": {},
   "outputs": [],
   "source": [
    "# Step 5: Handling Outliers\n",
    "df.loc[df['Experience_Years'] < 0, 'Experience_Years'] = df['Experience_Years'].median()"
   ]
  },
  {
   "cell_type": "code",
   "execution_count": 20,
   "id": "96e19b21-6d28-4b5b-8af5-20a928607be2",
   "metadata": {},
   "outputs": [
    {
     "data": {
      "text/html": [
       "<div>\n",
       "<style scoped>\n",
       "    .dataframe tbody tr th:only-of-type {\n",
       "        vertical-align: middle;\n",
       "    }\n",
       "\n",
       "    .dataframe tbody tr th {\n",
       "        vertical-align: top;\n",
       "    }\n",
       "\n",
       "    .dataframe thead th {\n",
       "        text-align: right;\n",
       "    }\n",
       "</style>\n",
       "<table border=\"1\" class=\"dataframe\">\n",
       "  <thead>\n",
       "    <tr style=\"text-align: right;\">\n",
       "      <th></th>\n",
       "      <th>ID</th>\n",
       "      <th>Name</th>\n",
       "      <th>Age</th>\n",
       "      <th>Salary</th>\n",
       "      <th>Join_Date</th>\n",
       "      <th>Country</th>\n",
       "      <th>Experience_Years</th>\n",
       "      <th>Department_Finance</th>\n",
       "      <th>Department_HR</th>\n",
       "      <th>Department_IT</th>\n",
       "      <th>Department_nan</th>\n",
       "    </tr>\n",
       "  </thead>\n",
       "  <tbody>\n",
       "    <tr>\n",
       "      <th>0</th>\n",
       "      <td>1002</td>\n",
       "      <td>David</td>\n",
       "      <td>35.0</td>\n",
       "      <td>1.000000</td>\n",
       "      <td>2020-12-05</td>\n",
       "      <td>United States</td>\n",
       "      <td>5</td>\n",
       "      <td>0</td>\n",
       "      <td>0</td>\n",
       "      <td>0.0</td>\n",
       "      <td>1</td>\n",
       "    </tr>\n",
       "    <tr>\n",
       "      <th>1</th>\n",
       "      <td>1003</td>\n",
       "      <td>Eve</td>\n",
       "      <td>25.0</td>\n",
       "      <td>0.333333</td>\n",
       "      <td>2020-12-05</td>\n",
       "      <td>Mexico</td>\n",
       "      <td>3</td>\n",
       "      <td>0</td>\n",
       "      <td>1</td>\n",
       "      <td>0.0</td>\n",
       "      <td>0</td>\n",
       "    </tr>\n",
       "    <tr>\n",
       "      <th>2</th>\n",
       "      <td>1005</td>\n",
       "      <td>Charlie</td>\n",
       "      <td>30.0</td>\n",
       "      <td>0.333333</td>\n",
       "      <td>2021-01-10</td>\n",
       "      <td>United States</td>\n",
       "      <td>5</td>\n",
       "      <td>0</td>\n",
       "      <td>0</td>\n",
       "      <td>0.0</td>\n",
       "      <td>1</td>\n",
       "    </tr>\n",
       "    <tr>\n",
       "      <th>3</th>\n",
       "      <td>1006</td>\n",
       "      <td>Eve</td>\n",
       "      <td>40.0</td>\n",
       "      <td>0.511167</td>\n",
       "      <td>2021-01-10</td>\n",
       "      <td>Canada</td>\n",
       "      <td>5</td>\n",
       "      <td>0</td>\n",
       "      <td>0</td>\n",
       "      <td>1.0</td>\n",
       "      <td>0</td>\n",
       "    </tr>\n",
       "    <tr>\n",
       "      <th>4</th>\n",
       "      <td>1007</td>\n",
       "      <td>Eve</td>\n",
       "      <td>30.0</td>\n",
       "      <td>0.511167</td>\n",
       "      <td>2021-03-15</td>\n",
       "      <td>Canada</td>\n",
       "      <td>3</td>\n",
       "      <td>0</td>\n",
       "      <td>0</td>\n",
       "      <td>1.0</td>\n",
       "      <td>0</td>\n",
       "    </tr>\n",
       "  </tbody>\n",
       "</table>\n",
       "</div>"
      ],
      "text/plain": [
       "     ID     Name   Age    Salary  Join_Date        Country  Experience_Years  \\\n",
       "0  1002    David  35.0  1.000000 2020-12-05  United States                 5   \n",
       "1  1003      Eve  25.0  0.333333 2020-12-05         Mexico                 3   \n",
       "2  1005  Charlie  30.0  0.333333 2021-01-10  United States                 5   \n",
       "3  1006      Eve  40.0  0.511167 2021-01-10         Canada                 5   \n",
       "4  1007      Eve  30.0  0.511167 2021-03-15         Canada                 3   \n",
       "\n",
       "   Department_Finance  Department_HR Department_IT  Department_nan  \n",
       "0                   0              0           0.0               1  \n",
       "1                   0              1           0.0               0  \n",
       "2                   0              0           0.0               1  \n",
       "3                   0              0           1.0               0  \n",
       "4                   0              0           1.0               0  "
      ]
     },
     "execution_count": 20,
     "metadata": {},
     "output_type": "execute_result"
    }
   ],
   "source": [
    "# Step 6: Normalizing & Scaling Data (Min-Max Scaling for Salary)\n",
    "df['Salary'] = (df['Salary'] - df['Salary'].min()) / (df['Salary'].max() - df['Salary'].min())\n",
    "\n",
    "df.head()"
   ]
  },
  {
   "cell_type": "code",
   "execution_count": 11,
   "id": "ca08a1ee-2215-4492-ba53-c6ee1a2d7605",
   "metadata": {},
   "outputs": [],
   "source": [
    "# Step 7: Encoding Categorical Data (One-Hot Encoding for Department)\n",
    "df = pd.get_dummies(df, columns=['Department_IT'])"
   ]
  },
  {
   "cell_type": "code",
   "execution_count": null,
   "id": "3958f350-efaa-4526-aaef-b7504e540731",
   "metadata": {},
   "outputs": [],
   "source": [
    "# Step 10: Data Validation & Quality Checks\n",
    "df.dropna(subset=['Join_Date'], inplace=True)  # Removing rows with invalid dates"
   ]
  },
  {
   "cell_type": "code",
   "execution_count": null,
   "id": "d62791bc-2f58-4208-a797-0c2c0bbe3cce",
   "metadata": {},
   "outputs": [],
   "source": [
    "# Display cleaned dataset\n",
    "print(df.head())\n",
    "print(df.shape)"
   ]
  },
  {
   "cell_type": "code",
   "execution_count": null,
   "id": "586ff50b-5515-47c2-8287-3c09261fcd89",
   "metadata": {},
   "outputs": [],
   "source": []
  },
  {
   "cell_type": "markdown",
   "id": "365a98a4-9156-492b-a59c-21367e3f8dca",
   "metadata": {},
   "source": [
    "# Exercises"
   ]
  },
  {
   "cell_type": "code",
   "execution_count": 1,
   "id": "18b7345e-04c0-4f5d-ab2f-7fac2ecfc7d7",
   "metadata": {
    "tags": []
   },
   "outputs": [],
   "source": [
    "# Data Cleaning Exercises\n",
    "\n",
    "import pandas as pd\n",
    "import numpy as np\n",
    "\n",
    "# Creating a sample dataset with data quality issues for exercises\n",
    "data = {\n",
    "    'ID': [101, 102, 103, 104, 105, 106, 107, 107],  # Duplicate ID\n",
    "    'Name': ['Alice', 'Bob', 'Charlie', 'David', 'Eve', 'Frank', 'Grace', 'Grace '],  # Extra space in last entry\n",
    "    'Age': [25, np.nan, 30, 45, 29, 35, 27, 27],  # Missing age value\n",
    "    'Salary': [50000, 60000, np.nan, 80000, 45000, 70000, 55000, 55000],  # Missing salary value\n",
    "    'Join_Date': ['2021-01-10', '2020-12-05', '2021-03-15', '2020-11-25', '2021-07-19', '2021-02-22', 'Invalid Date', '2021-08-30'],  # Invalid date format\n",
    "    'Country': ['USA', 'usa', 'United States', 'Canada', 'canada', 'Mexico', 'MEXICO', 'UK'],  # Inconsistent country names\n",
    "    'Department': ['HR', 'IT', 'HR', 'Finance', 'IT', np.nan, 'Finance', 'HR'],  # Missing department\n",
    "    'Experience_Years': [3, -1, 5, 10, 4, 7, 3, 3],  # Negative value error\n",
    "}"
   ]
  },
  {
   "cell_type": "markdown",
   "id": "12a4547e-6039-423c-b844-7ffa9714f3cc",
   "metadata": {},
   "source": [
    "## Exercise 1"
   ]
  },
  {
   "cell_type": "markdown",
   "id": "37b4ce42-c8db-4ace-af36-f3483f9bb028",
   "metadata": {},
   "source": [
    "Identify and remove duplicate rows based on the 'ID' column"
   ]
  },
  {
   "cell_type": "code",
   "execution_count": 38,
   "id": "dd4696c2-4d9d-4afc-ba81-143fffd07a44",
   "metadata": {
    "tags": []
   },
   "outputs": [
    {
     "data": {
      "text/html": [
       "<div>\n",
       "<style scoped>\n",
       "    .dataframe tbody tr th:only-of-type {\n",
       "        vertical-align: middle;\n",
       "    }\n",
       "\n",
       "    .dataframe tbody tr th {\n",
       "        vertical-align: top;\n",
       "    }\n",
       "\n",
       "    .dataframe thead th {\n",
       "        text-align: right;\n",
       "    }\n",
       "</style>\n",
       "<table border=\"1\" class=\"dataframe\">\n",
       "  <thead>\n",
       "    <tr style=\"text-align: right;\">\n",
       "      <th></th>\n",
       "      <th>ID</th>\n",
       "      <th>Name</th>\n",
       "      <th>Age</th>\n",
       "      <th>Salary</th>\n",
       "      <th>Join_Date</th>\n",
       "      <th>Country</th>\n",
       "      <th>Department</th>\n",
       "      <th>Experience_Years</th>\n",
       "    </tr>\n",
       "  </thead>\n",
       "  <tbody>\n",
       "    <tr>\n",
       "      <th>0</th>\n",
       "      <td>101</td>\n",
       "      <td>Alice</td>\n",
       "      <td>25.0</td>\n",
       "      <td>50000.0</td>\n",
       "      <td>2021-01-10</td>\n",
       "      <td>USA</td>\n",
       "      <td>HR</td>\n",
       "      <td>3</td>\n",
       "    </tr>\n",
       "    <tr>\n",
       "      <th>1</th>\n",
       "      <td>102</td>\n",
       "      <td>Bob</td>\n",
       "      <td>NaN</td>\n",
       "      <td>60000.0</td>\n",
       "      <td>2020-12-05</td>\n",
       "      <td>usa</td>\n",
       "      <td>IT</td>\n",
       "      <td>-1</td>\n",
       "    </tr>\n",
       "    <tr>\n",
       "      <th>2</th>\n",
       "      <td>103</td>\n",
       "      <td>Charlie</td>\n",
       "      <td>30.0</td>\n",
       "      <td>NaN</td>\n",
       "      <td>2021-03-15</td>\n",
       "      <td>United States</td>\n",
       "      <td>HR</td>\n",
       "      <td>5</td>\n",
       "    </tr>\n",
       "    <tr>\n",
       "      <th>3</th>\n",
       "      <td>104</td>\n",
       "      <td>David</td>\n",
       "      <td>45.0</td>\n",
       "      <td>80000.0</td>\n",
       "      <td>2020-11-25</td>\n",
       "      <td>Canada</td>\n",
       "      <td>Finance</td>\n",
       "      <td>10</td>\n",
       "    </tr>\n",
       "    <tr>\n",
       "      <th>4</th>\n",
       "      <td>105</td>\n",
       "      <td>Eve</td>\n",
       "      <td>29.0</td>\n",
       "      <td>45000.0</td>\n",
       "      <td>2021-07-19</td>\n",
       "      <td>canada</td>\n",
       "      <td>IT</td>\n",
       "      <td>4</td>\n",
       "    </tr>\n",
       "    <tr>\n",
       "      <th>5</th>\n",
       "      <td>106</td>\n",
       "      <td>Frank</td>\n",
       "      <td>35.0</td>\n",
       "      <td>70000.0</td>\n",
       "      <td>2021-02-22</td>\n",
       "      <td>Mexico</td>\n",
       "      <td>NaN</td>\n",
       "      <td>7</td>\n",
       "    </tr>\n",
       "    <tr>\n",
       "      <th>6</th>\n",
       "      <td>107</td>\n",
       "      <td>Grace</td>\n",
       "      <td>27.0</td>\n",
       "      <td>55000.0</td>\n",
       "      <td>Invalid Date</td>\n",
       "      <td>MEXICO</td>\n",
       "      <td>Finance</td>\n",
       "      <td>3</td>\n",
       "    </tr>\n",
       "    <tr>\n",
       "      <th>7</th>\n",
       "      <td>107</td>\n",
       "      <td>Grace</td>\n",
       "      <td>27.0</td>\n",
       "      <td>55000.0</td>\n",
       "      <td>2021-08-30</td>\n",
       "      <td>UK</td>\n",
       "      <td>HR</td>\n",
       "      <td>3</td>\n",
       "    </tr>\n",
       "  </tbody>\n",
       "</table>\n",
       "</div>"
      ],
      "text/plain": [
       "    ID     Name   Age   Salary     Join_Date        Country Department  \\\n",
       "0  101    Alice  25.0  50000.0    2021-01-10            USA         HR   \n",
       "1  102      Bob   NaN  60000.0    2020-12-05            usa         IT   \n",
       "2  103  Charlie  30.0      NaN    2021-03-15  United States         HR   \n",
       "3  104    David  45.0  80000.0    2020-11-25         Canada    Finance   \n",
       "4  105      Eve  29.0  45000.0    2021-07-19         canada         IT   \n",
       "5  106    Frank  35.0  70000.0    2021-02-22         Mexico        NaN   \n",
       "6  107    Grace  27.0  55000.0  Invalid Date         MEXICO    Finance   \n",
       "7  107   Grace   27.0  55000.0    2021-08-30             UK         HR   \n",
       "\n",
       "   Experience_Years  \n",
       "0                 3  \n",
       "1                -1  \n",
       "2                 5  \n",
       "3                10  \n",
       "4                 4  \n",
       "5                 7  \n",
       "6                 3  \n",
       "7                 3  "
      ]
     },
     "execution_count": 38,
     "metadata": {},
     "output_type": "execute_result"
    }
   ],
   "source": [
    "df = pd.DataFrame(data)\n",
    "df"
   ]
  },
  {
   "cell_type": "code",
   "execution_count": 39,
   "id": "bce86638-e8ff-421b-9102-dd0da543ee2a",
   "metadata": {
    "tags": []
   },
   "outputs": [
    {
     "data": {
      "text/plain": [
       "1"
      ]
     },
     "execution_count": 39,
     "metadata": {},
     "output_type": "execute_result"
    }
   ],
   "source": [
    "# Finding Duplicates \n",
    "duplicate_count = df.duplicated(subset=['ID']).sum()  \n",
    "duplicate_count"
   ]
  },
  {
   "cell_type": "code",
   "execution_count": 40,
   "id": "a3f0b592-14ec-4ea4-ae0f-956cdfe795f7",
   "metadata": {
    "tags": []
   },
   "outputs": [
    {
     "data": {
      "text/html": [
       "<div>\n",
       "<style scoped>\n",
       "    .dataframe tbody tr th:only-of-type {\n",
       "        vertical-align: middle;\n",
       "    }\n",
       "\n",
       "    .dataframe tbody tr th {\n",
       "        vertical-align: top;\n",
       "    }\n",
       "\n",
       "    .dataframe thead th {\n",
       "        text-align: right;\n",
       "    }\n",
       "</style>\n",
       "<table border=\"1\" class=\"dataframe\">\n",
       "  <thead>\n",
       "    <tr style=\"text-align: right;\">\n",
       "      <th></th>\n",
       "      <th>ID</th>\n",
       "      <th>Name</th>\n",
       "      <th>Age</th>\n",
       "      <th>Salary</th>\n",
       "      <th>Join_Date</th>\n",
       "      <th>Country</th>\n",
       "      <th>Department</th>\n",
       "      <th>Experience_Years</th>\n",
       "    </tr>\n",
       "  </thead>\n",
       "  <tbody>\n",
       "    <tr>\n",
       "      <th>0</th>\n",
       "      <td>101</td>\n",
       "      <td>Alice</td>\n",
       "      <td>25.0</td>\n",
       "      <td>50000.0</td>\n",
       "      <td>2021-01-10</td>\n",
       "      <td>USA</td>\n",
       "      <td>HR</td>\n",
       "      <td>3</td>\n",
       "    </tr>\n",
       "    <tr>\n",
       "      <th>1</th>\n",
       "      <td>102</td>\n",
       "      <td>Bob</td>\n",
       "      <td>NaN</td>\n",
       "      <td>60000.0</td>\n",
       "      <td>2020-12-05</td>\n",
       "      <td>usa</td>\n",
       "      <td>IT</td>\n",
       "      <td>-1</td>\n",
       "    </tr>\n",
       "    <tr>\n",
       "      <th>2</th>\n",
       "      <td>103</td>\n",
       "      <td>Charlie</td>\n",
       "      <td>30.0</td>\n",
       "      <td>NaN</td>\n",
       "      <td>2021-03-15</td>\n",
       "      <td>United States</td>\n",
       "      <td>HR</td>\n",
       "      <td>5</td>\n",
       "    </tr>\n",
       "    <tr>\n",
       "      <th>3</th>\n",
       "      <td>104</td>\n",
       "      <td>David</td>\n",
       "      <td>45.0</td>\n",
       "      <td>80000.0</td>\n",
       "      <td>2020-11-25</td>\n",
       "      <td>Canada</td>\n",
       "      <td>Finance</td>\n",
       "      <td>10</td>\n",
       "    </tr>\n",
       "    <tr>\n",
       "      <th>4</th>\n",
       "      <td>105</td>\n",
       "      <td>Eve</td>\n",
       "      <td>29.0</td>\n",
       "      <td>45000.0</td>\n",
       "      <td>2021-07-19</td>\n",
       "      <td>canada</td>\n",
       "      <td>IT</td>\n",
       "      <td>4</td>\n",
       "    </tr>\n",
       "    <tr>\n",
       "      <th>5</th>\n",
       "      <td>106</td>\n",
       "      <td>Frank</td>\n",
       "      <td>35.0</td>\n",
       "      <td>70000.0</td>\n",
       "      <td>2021-02-22</td>\n",
       "      <td>Mexico</td>\n",
       "      <td>NaN</td>\n",
       "      <td>7</td>\n",
       "    </tr>\n",
       "    <tr>\n",
       "      <th>6</th>\n",
       "      <td>107</td>\n",
       "      <td>Grace</td>\n",
       "      <td>27.0</td>\n",
       "      <td>55000.0</td>\n",
       "      <td>Invalid Date</td>\n",
       "      <td>MEXICO</td>\n",
       "      <td>Finance</td>\n",
       "      <td>3</td>\n",
       "    </tr>\n",
       "  </tbody>\n",
       "</table>\n",
       "</div>"
      ],
      "text/plain": [
       "    ID     Name   Age   Salary     Join_Date        Country Department  \\\n",
       "0  101    Alice  25.0  50000.0    2021-01-10            USA         HR   \n",
       "1  102      Bob   NaN  60000.0    2020-12-05            usa         IT   \n",
       "2  103  Charlie  30.0      NaN    2021-03-15  United States         HR   \n",
       "3  104    David  45.0  80000.0    2020-11-25         Canada    Finance   \n",
       "4  105      Eve  29.0  45000.0    2021-07-19         canada         IT   \n",
       "5  106    Frank  35.0  70000.0    2021-02-22         Mexico        NaN   \n",
       "6  107    Grace  27.0  55000.0  Invalid Date         MEXICO    Finance   \n",
       "\n",
       "   Experience_Years  \n",
       "0                 3  \n",
       "1                -1  \n",
       "2                 5  \n",
       "3                10  \n",
       "4                 4  \n",
       "5                 7  \n",
       "6                 3  "
      ]
     },
     "execution_count": 40,
     "metadata": {},
     "output_type": "execute_result"
    }
   ],
   "source": [
    "# Removing duplicates based on ID columnn\n",
    "df.drop_duplicates(subset=['ID'], keep='first', inplace=True)\n",
    "df"
   ]
  },
  {
   "cell_type": "markdown",
   "id": "1aa96ff4-802e-43ee-9fb0-584c2c5cd44d",
   "metadata": {},
   "source": [
    "## Exercise 2"
   ]
  },
  {
   "cell_type": "markdown",
   "id": "23a92c3a-2254-4904-b9e8-e3c07c31a74b",
   "metadata": {},
   "source": [
    "Handle missing values in 'Age', 'Salary', and 'Department'."
   ]
  },
  {
   "cell_type": "code",
   "execution_count": 41,
   "id": "358d2ed8-3019-4720-86e2-b4459805e5f5",
   "metadata": {
    "tags": []
   },
   "outputs": [
    {
     "data": {
      "text/html": [
       "<div>\n",
       "<style scoped>\n",
       "    .dataframe tbody tr th:only-of-type {\n",
       "        vertical-align: middle;\n",
       "    }\n",
       "\n",
       "    .dataframe tbody tr th {\n",
       "        vertical-align: top;\n",
       "    }\n",
       "\n",
       "    .dataframe thead th {\n",
       "        text-align: right;\n",
       "    }\n",
       "</style>\n",
       "<table border=\"1\" class=\"dataframe\">\n",
       "  <thead>\n",
       "    <tr style=\"text-align: right;\">\n",
       "      <th></th>\n",
       "      <th>ID</th>\n",
       "      <th>Name</th>\n",
       "      <th>Age</th>\n",
       "      <th>Salary</th>\n",
       "      <th>Join_Date</th>\n",
       "      <th>Country</th>\n",
       "      <th>Department</th>\n",
       "      <th>Experience_Years</th>\n",
       "    </tr>\n",
       "  </thead>\n",
       "  <tbody>\n",
       "    <tr>\n",
       "      <th>0</th>\n",
       "      <td>101</td>\n",
       "      <td>Alice</td>\n",
       "      <td>25.0</td>\n",
       "      <td>50000.0</td>\n",
       "      <td>2021-01-10</td>\n",
       "      <td>USA</td>\n",
       "      <td>HR</td>\n",
       "      <td>3</td>\n",
       "    </tr>\n",
       "    <tr>\n",
       "      <th>1</th>\n",
       "      <td>102</td>\n",
       "      <td>Bob</td>\n",
       "      <td>29.5</td>\n",
       "      <td>60000.0</td>\n",
       "      <td>2020-12-05</td>\n",
       "      <td>usa</td>\n",
       "      <td>IT</td>\n",
       "      <td>-1</td>\n",
       "    </tr>\n",
       "    <tr>\n",
       "      <th>2</th>\n",
       "      <td>103</td>\n",
       "      <td>Charlie</td>\n",
       "      <td>30.0</td>\n",
       "      <td>NaN</td>\n",
       "      <td>2021-03-15</td>\n",
       "      <td>United States</td>\n",
       "      <td>HR</td>\n",
       "      <td>5</td>\n",
       "    </tr>\n",
       "    <tr>\n",
       "      <th>3</th>\n",
       "      <td>104</td>\n",
       "      <td>David</td>\n",
       "      <td>45.0</td>\n",
       "      <td>80000.0</td>\n",
       "      <td>2020-11-25</td>\n",
       "      <td>Canada</td>\n",
       "      <td>Finance</td>\n",
       "      <td>10</td>\n",
       "    </tr>\n",
       "    <tr>\n",
       "      <th>4</th>\n",
       "      <td>105</td>\n",
       "      <td>Eve</td>\n",
       "      <td>29.0</td>\n",
       "      <td>45000.0</td>\n",
       "      <td>2021-07-19</td>\n",
       "      <td>canada</td>\n",
       "      <td>IT</td>\n",
       "      <td>4</td>\n",
       "    </tr>\n",
       "    <tr>\n",
       "      <th>5</th>\n",
       "      <td>106</td>\n",
       "      <td>Frank</td>\n",
       "      <td>35.0</td>\n",
       "      <td>70000.0</td>\n",
       "      <td>2021-02-22</td>\n",
       "      <td>Mexico</td>\n",
       "      <td>Unknown</td>\n",
       "      <td>7</td>\n",
       "    </tr>\n",
       "    <tr>\n",
       "      <th>6</th>\n",
       "      <td>107</td>\n",
       "      <td>Grace</td>\n",
       "      <td>27.0</td>\n",
       "      <td>55000.0</td>\n",
       "      <td>Invalid Date</td>\n",
       "      <td>MEXICO</td>\n",
       "      <td>Finance</td>\n",
       "      <td>3</td>\n",
       "    </tr>\n",
       "  </tbody>\n",
       "</table>\n",
       "</div>"
      ],
      "text/plain": [
       "    ID     Name   Age   Salary     Join_Date        Country Department  \\\n",
       "0  101    Alice  25.0  50000.0    2021-01-10            USA         HR   \n",
       "1  102      Bob  29.5  60000.0    2020-12-05            usa         IT   \n",
       "2  103  Charlie  30.0      NaN    2021-03-15  United States         HR   \n",
       "3  104    David  45.0  80000.0    2020-11-25         Canada    Finance   \n",
       "4  105      Eve  29.0  45000.0    2021-07-19         canada         IT   \n",
       "5  106    Frank  35.0  70000.0    2021-02-22         Mexico    Unknown   \n",
       "6  107    Grace  27.0  55000.0  Invalid Date         MEXICO    Finance   \n",
       "\n",
       "   Experience_Years  \n",
       "0                 3  \n",
       "1                -1  \n",
       "2                 5  \n",
       "3                10  \n",
       "4                 4  \n",
       "5                 7  \n",
       "6                 3  "
      ]
     },
     "execution_count": 41,
     "metadata": {},
     "output_type": "execute_result"
    }
   ],
   "source": [
    "# Handling Missing Data\n",
    "#1.Identifying missing values\n",
    "missing_values = df.isnull()\n",
    "\n",
    "# You can fill the missing values using the mean,mode, median etc BUT median is the most recommended\n",
    "df['Age'].fillna(df['Age'].median(), inplace=True)\n",
    "df['Department'].fillna('Unknown', inplace=True)\n",
    "df"
   ]
  },
  {
   "cell_type": "code",
   "execution_count": 43,
   "id": "29049384-1f4f-48d8-9ad4-1d2d518ae2bb",
   "metadata": {
    "tags": []
   },
   "outputs": [
    {
     "data": {
      "text/html": [
       "<div>\n",
       "<style scoped>\n",
       "    .dataframe tbody tr th:only-of-type {\n",
       "        vertical-align: middle;\n",
       "    }\n",
       "\n",
       "    .dataframe tbody tr th {\n",
       "        vertical-align: top;\n",
       "    }\n",
       "\n",
       "    .dataframe thead th {\n",
       "        text-align: right;\n",
       "    }\n",
       "</style>\n",
       "<table border=\"1\" class=\"dataframe\">\n",
       "  <thead>\n",
       "    <tr style=\"text-align: right;\">\n",
       "      <th></th>\n",
       "      <th>ID</th>\n",
       "      <th>Name</th>\n",
       "      <th>Age</th>\n",
       "      <th>Salary</th>\n",
       "      <th>Join_Date</th>\n",
       "      <th>Country</th>\n",
       "      <th>Department</th>\n",
       "      <th>Experience_Years</th>\n",
       "    </tr>\n",
       "  </thead>\n",
       "  <tbody>\n",
       "    <tr>\n",
       "      <th>0</th>\n",
       "      <td>101</td>\n",
       "      <td>Alice</td>\n",
       "      <td>25.0</td>\n",
       "      <td>50000.0</td>\n",
       "      <td>2021-01-10</td>\n",
       "      <td>USA</td>\n",
       "      <td>HR</td>\n",
       "      <td>3</td>\n",
       "    </tr>\n",
       "    <tr>\n",
       "      <th>1</th>\n",
       "      <td>102</td>\n",
       "      <td>Bob</td>\n",
       "      <td>29.5</td>\n",
       "      <td>60000.0</td>\n",
       "      <td>2020-12-05</td>\n",
       "      <td>usa</td>\n",
       "      <td>IT</td>\n",
       "      <td>-1</td>\n",
       "    </tr>\n",
       "    <tr>\n",
       "      <th>2</th>\n",
       "      <td>103</td>\n",
       "      <td>Charlie</td>\n",
       "      <td>30.0</td>\n",
       "      <td>NaN</td>\n",
       "      <td>2021-03-15</td>\n",
       "      <td>United States</td>\n",
       "      <td>HR</td>\n",
       "      <td>5</td>\n",
       "    </tr>\n",
       "    <tr>\n",
       "      <th>3</th>\n",
       "      <td>104</td>\n",
       "      <td>David</td>\n",
       "      <td>45.0</td>\n",
       "      <td>80000.0</td>\n",
       "      <td>2020-11-25</td>\n",
       "      <td>Canada</td>\n",
       "      <td>Finance</td>\n",
       "      <td>10</td>\n",
       "    </tr>\n",
       "    <tr>\n",
       "      <th>4</th>\n",
       "      <td>105</td>\n",
       "      <td>Eve</td>\n",
       "      <td>29.0</td>\n",
       "      <td>45000.0</td>\n",
       "      <td>2021-07-19</td>\n",
       "      <td>canada</td>\n",
       "      <td>IT</td>\n",
       "      <td>4</td>\n",
       "    </tr>\n",
       "    <tr>\n",
       "      <th>5</th>\n",
       "      <td>106</td>\n",
       "      <td>Frank</td>\n",
       "      <td>35.0</td>\n",
       "      <td>70000.0</td>\n",
       "      <td>2021-02-22</td>\n",
       "      <td>Mexico</td>\n",
       "      <td>Unknown</td>\n",
       "      <td>7</td>\n",
       "    </tr>\n",
       "    <tr>\n",
       "      <th>6</th>\n",
       "      <td>107</td>\n",
       "      <td>Grace</td>\n",
       "      <td>27.0</td>\n",
       "      <td>55000.0</td>\n",
       "      <td>Invalid Date</td>\n",
       "      <td>MEXICO</td>\n",
       "      <td>Finance</td>\n",
       "      <td>3</td>\n",
       "    </tr>\n",
       "  </tbody>\n",
       "</table>\n",
       "</div>"
      ],
      "text/plain": [
       "    ID     Name   Age   Salary     Join_Date        Country Department  \\\n",
       "0  101    Alice  25.0  50000.0    2021-01-10            USA         HR   \n",
       "1  102      Bob  29.5  60000.0    2020-12-05            usa         IT   \n",
       "2  103  Charlie  30.0      NaN    2021-03-15  United States         HR   \n",
       "3  104    David  45.0  80000.0    2020-11-25         Canada    Finance   \n",
       "4  105      Eve  29.0  45000.0    2021-07-19         canada         IT   \n",
       "5  106    Frank  35.0  70000.0    2021-02-22         Mexico    Unknown   \n",
       "6  107    Grace  27.0  55000.0  Invalid Date         MEXICO    Finance   \n",
       "\n",
       "   Experience_Years  \n",
       "0                 3  \n",
       "1                -1  \n",
       "2                 5  \n",
       "3                10  \n",
       "4                 4  \n",
       "5                 7  \n",
       "6                 3  "
      ]
     },
     "execution_count": 43,
     "metadata": {},
     "output_type": "execute_result"
    }
   ],
   "source": [
    "# filling missing salary based on mean of each country\n",
    "# Step 1: Calculate the average salary per country\n",
    "country_avg_salary = df.groupby('Country')['Salary'].transform('mean')\n",
    " \n",
    "# Step 2: Replace NaN values in salary with the country average\n",
    "df['Salary'].fillna(country_avg_salary, inplace=True)\n",
    "df"
   ]
  },
  {
   "cell_type": "markdown",
   "id": "40399716-a722-4306-8a87-eaa89dd6f40d",
   "metadata": {},
   "source": [
    "## Exercise 3"
   ]
  },
  {
   "cell_type": "markdown",
   "id": "005341ef-4d47-457f-a115-06e3d184e276",
   "metadata": {},
   "source": [
    "Standardize 'Country' names to maintain consistency"
   ]
  },
  {
   "cell_type": "code",
   "execution_count": 26,
   "id": "3ee5a5d0-79f5-4467-a552-13b1e3e2b40d",
   "metadata": {
    "tags": []
   },
   "outputs": [
    {
     "data": {
      "text/plain": [
       "0              USA\n",
       "1              usa\n",
       "2    United States\n",
       "3           Canada\n",
       "4           canada\n",
       "5           Mexico\n",
       "6           MEXICO\n",
       "Name: Country, dtype: object"
      ]
     },
     "execution_count": 26,
     "metadata": {},
     "output_type": "execute_result"
    }
   ],
   "source": [
    "# exploring country\n",
    "df['Country']\n"
   ]
  },
  {
   "cell_type": "code",
   "execution_count": 29,
   "id": "44413336-3618-4a9d-a3ab-d9fe78d371fa",
   "metadata": {
    "tags": []
   },
   "outputs": [
    {
     "data": {
      "text/plain": [
       "0    united states\n",
       "1    united states\n",
       "2    united states\n",
       "3           Canada\n",
       "4           Canada\n",
       "5           mexico\n",
       "6           mexico\n",
       "Name: Country, dtype: object"
      ]
     },
     "execution_count": 29,
     "metadata": {},
     "output_type": "execute_result"
    }
   ],
   "source": [
    "# Standardizing COUNTRY field\n",
    "df['Country'] = df['Country'].str.lower().replace({'usa': 'United States', 'USA': 'United States', 'canada': 'Canada', 'MEXICO': 'Mexico'})\n",
    "df['Country']"
   ]
  },
  {
   "cell_type": "markdown",
   "id": "82886ccd-9a4d-4021-b5e4-29ccd67db0e2",
   "metadata": {},
   "source": [
    "## Exercise 4"
   ]
  },
  {
   "cell_type": "markdown",
   "id": "77beb80c-4a3c-4bd0-bdb5-71be28caa224",
   "metadata": {},
   "source": [
    "Convert 'Join_Date' to datetime format, handling invalid entries"
   ]
  },
  {
   "cell_type": "code",
   "execution_count": 33,
   "id": "c4ee5cab-ef65-4a2c-9d0a-2018352062b9",
   "metadata": {
    "tags": []
   },
   "outputs": [
    {
     "data": {
      "text/html": [
       "<div>\n",
       "<style scoped>\n",
       "    .dataframe tbody tr th:only-of-type {\n",
       "        vertical-align: middle;\n",
       "    }\n",
       "\n",
       "    .dataframe tbody tr th {\n",
       "        vertical-align: top;\n",
       "    }\n",
       "\n",
       "    .dataframe thead th {\n",
       "        text-align: right;\n",
       "    }\n",
       "</style>\n",
       "<table border=\"1\" class=\"dataframe\">\n",
       "  <thead>\n",
       "    <tr style=\"text-align: right;\">\n",
       "      <th></th>\n",
       "      <th>ID</th>\n",
       "      <th>Name</th>\n",
       "      <th>Age</th>\n",
       "      <th>Salary</th>\n",
       "      <th>Join_Date</th>\n",
       "      <th>Country</th>\n",
       "      <th>Department</th>\n",
       "      <th>Experience_Years</th>\n",
       "    </tr>\n",
       "  </thead>\n",
       "  <tbody>\n",
       "    <tr>\n",
       "      <th>0</th>\n",
       "      <td>101</td>\n",
       "      <td>Alice</td>\n",
       "      <td>25.0</td>\n",
       "      <td>50000.0</td>\n",
       "      <td>2021-01-10</td>\n",
       "      <td>united states</td>\n",
       "      <td>HR</td>\n",
       "      <td>3</td>\n",
       "    </tr>\n",
       "    <tr>\n",
       "      <th>1</th>\n",
       "      <td>102</td>\n",
       "      <td>Bob</td>\n",
       "      <td>29.5</td>\n",
       "      <td>60000.0</td>\n",
       "      <td>2020-12-05</td>\n",
       "      <td>united states</td>\n",
       "      <td>IT</td>\n",
       "      <td>-1</td>\n",
       "    </tr>\n",
       "    <tr>\n",
       "      <th>2</th>\n",
       "      <td>103</td>\n",
       "      <td>Charlie</td>\n",
       "      <td>30.0</td>\n",
       "      <td>60000.0</td>\n",
       "      <td>2021-03-15</td>\n",
       "      <td>united states</td>\n",
       "      <td>HR</td>\n",
       "      <td>5</td>\n",
       "    </tr>\n",
       "    <tr>\n",
       "      <th>3</th>\n",
       "      <td>104</td>\n",
       "      <td>David</td>\n",
       "      <td>45.0</td>\n",
       "      <td>80000.0</td>\n",
       "      <td>2020-11-25</td>\n",
       "      <td>Canada</td>\n",
       "      <td>Finance</td>\n",
       "      <td>10</td>\n",
       "    </tr>\n",
       "    <tr>\n",
       "      <th>4</th>\n",
       "      <td>105</td>\n",
       "      <td>Eve</td>\n",
       "      <td>29.0</td>\n",
       "      <td>45000.0</td>\n",
       "      <td>2021-07-19</td>\n",
       "      <td>Canada</td>\n",
       "      <td>IT</td>\n",
       "      <td>4</td>\n",
       "    </tr>\n",
       "    <tr>\n",
       "      <th>5</th>\n",
       "      <td>106</td>\n",
       "      <td>Frank</td>\n",
       "      <td>35.0</td>\n",
       "      <td>70000.0</td>\n",
       "      <td>2021-02-22</td>\n",
       "      <td>mexico</td>\n",
       "      <td>Unknown</td>\n",
       "      <td>7</td>\n",
       "    </tr>\n",
       "    <tr>\n",
       "      <th>6</th>\n",
       "      <td>107</td>\n",
       "      <td>Grace</td>\n",
       "      <td>27.0</td>\n",
       "      <td>55000.0</td>\n",
       "      <td>NaT</td>\n",
       "      <td>mexico</td>\n",
       "      <td>Finance</td>\n",
       "      <td>3</td>\n",
       "    </tr>\n",
       "  </tbody>\n",
       "</table>\n",
       "</div>"
      ],
      "text/plain": [
       "    ID     Name   Age   Salary  Join_Date        Country Department  \\\n",
       "0  101    Alice  25.0  50000.0 2021-01-10  united states         HR   \n",
       "1  102      Bob  29.5  60000.0 2020-12-05  united states         IT   \n",
       "2  103  Charlie  30.0  60000.0 2021-03-15  united states         HR   \n",
       "3  104    David  45.0  80000.0 2020-11-25         Canada    Finance   \n",
       "4  105      Eve  29.0  45000.0 2021-07-19         Canada         IT   \n",
       "5  106    Frank  35.0  70000.0 2021-02-22         mexico    Unknown   \n",
       "6  107    Grace  27.0  55000.0        NaT         mexico    Finance   \n",
       "\n",
       "   Experience_Years  \n",
       "0                 3  \n",
       "1                -1  \n",
       "2                 5  \n",
       "3                10  \n",
       "4                 4  \n",
       "5                 7  \n",
       "6                 3  "
      ]
     },
     "execution_count": 33,
     "metadata": {},
     "output_type": "execute_result"
    }
   ],
   "source": [
    " # Convert to datetime\n",
    " df['Join_Date'] = pd.to_datetime(df['Join_Date'], errors='coerce')\n",
    "df"
   ]
  },
  {
   "cell_type": "code",
   "execution_count": 35,
   "id": "68720c38-a9b9-4ad4-aca8-fb930a8c6061",
   "metadata": {
    "tags": []
   },
   "outputs": [
    {
     "data": {
      "text/html": [
       "<div>\n",
       "<style scoped>\n",
       "    .dataframe tbody tr th:only-of-type {\n",
       "        vertical-align: middle;\n",
       "    }\n",
       "\n",
       "    .dataframe tbody tr th {\n",
       "        vertical-align: top;\n",
       "    }\n",
       "\n",
       "    .dataframe thead th {\n",
       "        text-align: right;\n",
       "    }\n",
       "</style>\n",
       "<table border=\"1\" class=\"dataframe\">\n",
       "  <thead>\n",
       "    <tr style=\"text-align: right;\">\n",
       "      <th></th>\n",
       "      <th>ID</th>\n",
       "      <th>Name</th>\n",
       "      <th>Age</th>\n",
       "      <th>Salary</th>\n",
       "      <th>Join_Date</th>\n",
       "      <th>Country</th>\n",
       "      <th>Department</th>\n",
       "      <th>Experience_Years</th>\n",
       "    </tr>\n",
       "  </thead>\n",
       "  <tbody>\n",
       "    <tr>\n",
       "      <th>0</th>\n",
       "      <td>101</td>\n",
       "      <td>Alice</td>\n",
       "      <td>25.0</td>\n",
       "      <td>50000.0</td>\n",
       "      <td>2021-01-10</td>\n",
       "      <td>united states</td>\n",
       "      <td>HR</td>\n",
       "      <td>3</td>\n",
       "    </tr>\n",
       "    <tr>\n",
       "      <th>1</th>\n",
       "      <td>102</td>\n",
       "      <td>Bob</td>\n",
       "      <td>29.5</td>\n",
       "      <td>60000.0</td>\n",
       "      <td>2020-12-05</td>\n",
       "      <td>united states</td>\n",
       "      <td>IT</td>\n",
       "      <td>-1</td>\n",
       "    </tr>\n",
       "    <tr>\n",
       "      <th>2</th>\n",
       "      <td>103</td>\n",
       "      <td>Charlie</td>\n",
       "      <td>30.0</td>\n",
       "      <td>60000.0</td>\n",
       "      <td>2021-03-15</td>\n",
       "      <td>united states</td>\n",
       "      <td>HR</td>\n",
       "      <td>5</td>\n",
       "    </tr>\n",
       "    <tr>\n",
       "      <th>3</th>\n",
       "      <td>104</td>\n",
       "      <td>David</td>\n",
       "      <td>45.0</td>\n",
       "      <td>80000.0</td>\n",
       "      <td>2020-11-25</td>\n",
       "      <td>Canada</td>\n",
       "      <td>Finance</td>\n",
       "      <td>10</td>\n",
       "    </tr>\n",
       "    <tr>\n",
       "      <th>4</th>\n",
       "      <td>105</td>\n",
       "      <td>Eve</td>\n",
       "      <td>29.0</td>\n",
       "      <td>45000.0</td>\n",
       "      <td>2021-07-19</td>\n",
       "      <td>Canada</td>\n",
       "      <td>IT</td>\n",
       "      <td>4</td>\n",
       "    </tr>\n",
       "    <tr>\n",
       "      <th>5</th>\n",
       "      <td>106</td>\n",
       "      <td>Frank</td>\n",
       "      <td>35.0</td>\n",
       "      <td>70000.0</td>\n",
       "      <td>2021-02-22</td>\n",
       "      <td>mexico</td>\n",
       "      <td>Unknown</td>\n",
       "      <td>7</td>\n",
       "    </tr>\n",
       "  </tbody>\n",
       "</table>\n",
       "</div>"
      ],
      "text/plain": [
       "    ID     Name   Age   Salary  Join_Date        Country Department  \\\n",
       "0  101    Alice  25.0  50000.0 2021-01-10  united states         HR   \n",
       "1  102      Bob  29.5  60000.0 2020-12-05  united states         IT   \n",
       "2  103  Charlie  30.0  60000.0 2021-03-15  united states         HR   \n",
       "3  104    David  45.0  80000.0 2020-11-25         Canada    Finance   \n",
       "4  105      Eve  29.0  45000.0 2021-07-19         Canada         IT   \n",
       "5  106    Frank  35.0  70000.0 2021-02-22         mexico    Unknown   \n",
       "\n",
       "   Experience_Years  \n",
       "0                 3  \n",
       "1                -1  \n",
       "2                 5  \n",
       "3                10  \n",
       "4                 4  \n",
       "5                 7  "
      ]
     },
     "execution_count": 35,
     "metadata": {},
     "output_type": "execute_result"
    }
   ],
   "source": [
    "# Removing rows with invalid date\n",
    "df.dropna(subset=['Join_Date'], inplace=True)  \n",
    "df"
   ]
  },
  {
   "cell_type": "markdown",
   "id": "893e1f6f-233d-4e4d-bda7-3d1a833c0d41",
   "metadata": {},
   "source": [
    "## Exercise 5"
   ]
  },
  {
   "cell_type": "markdown",
   "id": "19a8e418-3ad1-45ee-a0c6-1f9a35783c26",
   "metadata": {},
   "source": [
    "Remove extra spaces in the 'Name' column."
   ]
  },
  {
   "cell_type": "code",
   "execution_count": null,
   "id": "54a47bc7-d656-49e3-a8da-97fc2a809099",
   "metadata": {},
   "outputs": [],
   "source": []
  },
  {
   "cell_type": "markdown",
   "id": "6517c370-f08a-421c-8927-a5991c725918",
   "metadata": {},
   "source": [
    "## Exercise 6"
   ]
  },
  {
   "cell_type": "markdown",
   "id": "5d00eb86-b912-4abf-b63f-8157a1106d12",
   "metadata": {},
   "source": [
    "Fix negative values in 'Experience_Years'"
   ]
  },
  {
   "cell_type": "code",
   "execution_count": null,
   "id": "ecd5210c-05b3-4af8-b302-a8bfd8851b99",
   "metadata": {},
   "outputs": [],
   "source": []
  },
  {
   "cell_type": "markdown",
   "id": "9905a5c7-b4a5-41cf-a10b-ddeaaa230fee",
   "metadata": {},
   "source": [
    "## Exercise 7"
   ]
  },
  {
   "cell_type": "markdown",
   "id": "b1662d87-2a42-45c5-9c89-67216727d004",
   "metadata": {},
   "source": [
    "Normalize 'Salary' using Min-Max scaling"
   ]
  },
  {
   "cell_type": "code",
   "execution_count": null,
   "id": "ee72ff8a-a93f-46f1-8630-93a218fee390",
   "metadata": {},
   "outputs": [],
   "source": []
  },
  {
   "cell_type": "markdown",
   "id": "8bf2a4f6-4b33-43d5-9fa3-f9ae7b3093be",
   "metadata": {},
   "source": [
    "## Exercise 8"
   ]
  },
  {
   "cell_type": "markdown",
   "id": "8b421568-e225-4761-90c0-9120d9e06ab1",
   "metadata": {},
   "source": [
    "One-hot encode the 'Department' column"
   ]
  },
  {
   "cell_type": "code",
   "execution_count": null,
   "id": "ef2f837a-52c7-4085-9746-770abaadcf37",
   "metadata": {},
   "outputs": [],
   "source": []
  },
  {
   "cell_type": "markdown",
   "id": "c138eda4-23f9-4fb0-ac17-5ed3a6b1f165",
   "metadata": {},
   "source": [
    "## Exercise 9"
   ]
  },
  {
   "cell_type": "markdown",
   "id": "c60a8f07-1aa6-4785-a57f-b82ce3e993a3",
   "metadata": {},
   "source": [
    " Write a function that combines all the above processes"
   ]
  },
  {
   "cell_type": "code",
   "execution_count": null,
   "id": "b2147d5a-1cb1-48fd-881e-9b5a74851604",
   "metadata": {},
   "outputs": [],
   "source": []
  }
 ],
 "metadata": {
  "kernelspec": {
   "display_name": "Python 3 (ipykernel)",
   "language": "python",
   "name": "python3"
  },
  "language_info": {
   "codemirror_mode": {
    "name": "ipython",
    "version": 3
   },
   "file_extension": ".py",
   "mimetype": "text/x-python",
   "name": "python",
   "nbconvert_exporter": "python",
   "pygments_lexer": "ipython3",
   "version": "3.11.5"
  }
 },
 "nbformat": 4,
 "nbformat_minor": 5
}
