{
 "cells": [
  {
   "cell_type": "markdown",
   "id": "4a1ec731-7fb2-41b9-b153-f4175a4259ec",
   "metadata": {},
   "source": [
    "# Working with Python Libraries"
   ]
  },
  {
   "cell_type": "markdown",
   "id": "10fa3e92-9015-4338-acc1-1093c2460e8d",
   "metadata": {},
   "source": [
    "Python libraries are collections of pre-written code that provide additional functionality to simplify programming tasks. These libraries help in data manipulation, visualization, machine learning, web development, and more. "
   ]
  },
  {
   "cell_type": "markdown",
   "id": "eb084a3f-e7e4-454e-b4ee-3a6f36bb133a",
   "metadata": {},
   "source": [
    "Why Use Python Libraries?\n",
    "- Saves time and effort by reusing pre-written functions.\n",
    "- Enhances efficiency and performance.\n",
    "- Standardizes common programming tasks.\n",
    "- Facilitates collaboration by providing widely accepted solutions."
   ]
  },
  {
   "cell_type": "markdown",
   "id": "9ed50509-6eb0-4566-9dd5-fe4b6b80407a",
   "metadata": {},
   "source": [
    "## Installing and Importing Libraries"
   ]
  },
  {
   "cell_type": "markdown",
   "id": "9346b557-02ae-4802-8381-c069b68251cb",
   "metadata": {},
   "source": [
    "If a library is not included in Python by default, you can install it using:"
   ]
  },
  {
   "cell_type": "code",
   "execution_count": null,
   "id": "dfd82861-d5e4-4f07-985e-0caa4119258c",
   "metadata": {},
   "outputs": [],
   "source": [
    "!pip install library_name"
   ]
  },
  {
   "cell_type": "code",
   "execution_count": 1,
   "id": "78cf8692-010f-4483-ac4f-b5aae3db7474",
   "metadata": {},
   "outputs": [],
   "source": [
    "#!pip install numpy\n",
    "#!pip install pandas\n",
    "#!pip install matplotlib"
   ]
  },
  {
   "cell_type": "code",
   "execution_count": null,
   "id": "7324104b-1895-44e2-aec9-ad6ae187f77c",
   "metadata": {},
   "outputs": [],
   "source": []
  },
  {
   "cell_type": "markdown",
   "id": "37328c17-0a98-4330-8f8d-9f82ad86fe25",
   "metadata": {},
   "source": [
    "# Importing a Library"
   ]
  },
  {
   "cell_type": "markdown",
   "id": "81286191-ac00-43a5-9921-5c9275b1a731",
   "metadata": {},
   "source": [
    "Once installed, you need to import it before using:"
   ]
  },
  {
   "cell_type": "code",
   "execution_count": null,
   "id": "5d649e52-70ff-44b0-9c2c-135fe1125602",
   "metadata": {},
   "outputs": [],
   "source": [
    "import library_name"
   ]
  },
  {
   "cell_type": "code",
   "execution_count": null,
   "id": "63d67069-fe50-4c03-8272-41a263b8ce1a",
   "metadata": {},
   "outputs": [],
   "source": [
    "# Example\n",
    "\n",
    "import numpy as np\n",
    "import pandas as pd\n",
    "import matplotlib.pyplot as plt"
   ]
  },
  {
   "cell_type": "markdown",
   "id": "0b40c6bb-7060-4654-9056-490af8211e33",
   "metadata": {},
   "source": [
    "## Commonly Used Python Libraries"
   ]
  },
  {
   "cell_type": "markdown",
   "id": "925b25cd-edc9-4b85-9354-61fcb155d517",
   "metadata": {},
   "source": [
    "### NumPy (Numerical Python)"
   ]
  },
  {
   "cell_type": "markdown",
   "id": "c3a86383-8484-46f4-90a7-e843fa79e368",
   "metadata": {},
   "source": [
    "- Used for numerical computations and working with arrays.\n",
    "- Supports mathematical operations on large datasets."
   ]
  },
  {
   "cell_type": "code",
   "execution_count": 2,
   "id": "5fcd75e7-098e-4b87-a509-16ab4dfbee57",
   "metadata": {},
   "outputs": [
    {
     "name": "stdout",
     "output_type": "stream",
     "text": [
      "Array: [1 2 3 4 5]\n",
      "Array multiplied by 2: [ 2  4  6  8 10]\n",
      "Sum of elements: 15\n"
     ]
    }
   ],
   "source": [
    "#  Creating and Manipulating Arrays\n",
    "import numpy as np\n",
    "\n",
    "arr = np.array([1, 2, 3, 4, 5])\n",
    "print(\"Array:\", arr)\n",
    "\n",
    "# Mathematical operations\n",
    "print(\"Array multiplied by 2:\", arr * 2)\n",
    "print(\"Sum of elements:\", np.sum(arr))"
   ]
  },
  {
   "cell_type": "markdown",
   "id": "96f09e86-dd82-487c-a108-688e8928d834",
   "metadata": {},
   "source": [
    "### Pandas (Data Analysis)\n",
    "- Used for handling structured data in the form of DataFrames.\n",
    "- Useful for data manipulation and analysis."
   ]
  },
  {
   "cell_type": "code",
   "execution_count": 3,
   "id": "7ce97ddb-1e90-4b55-b26f-bdaee3e43f2a",
   "metadata": {},
   "outputs": [
    {
     "name": "stdout",
     "output_type": "stream",
     "text": [
      "      Name  Age  Salary\n",
      "0    Alice   25   50000\n",
      "1      Bob   30   60000\n",
      "2  Charlie   35   70000\n",
      "0    25\n",
      "1    30\n",
      "2    35\n",
      "Name: Age, dtype: int64\n",
      "      Name  Age  Salary\n",
      "1      Bob   30   60000\n",
      "2  Charlie   35   70000\n"
     ]
    }
   ],
   "source": [
    "import pandas as pd\n",
    "\n",
    "# Creating a DataFrame\n",
    "data = {'Name': ['Alice', 'Bob', 'Charlie'],\n",
    "        'Age': [25, 30, 35],\n",
    "        'Salary': [50000, 60000, 70000]}\n",
    "\n",
    "df = pd.DataFrame(data)\n",
    "print(df)\n",
    "\n",
    "# Accessing columns\n",
    "print(df['Age'])\n",
    "\n",
    "# Filtering data\n",
    "print(df[df['Salary'] > 55000])"
   ]
  },
  {
   "cell_type": "markdown",
   "id": "b16e7ebd-96ea-4c83-badd-0346dec08a76",
   "metadata": {},
   "source": [
    "### Matplotlib (Data Visualization)\n",
    "Used for creating graphs, plots, and charts."
   ]
  },
  {
   "cell_type": "code",
   "execution_count": 5,
   "id": "23c0bda4-5059-4d1c-bb43-0dd8f2d5e251",
   "metadata": {},
   "outputs": [
    {
     "data": {
      "image/png": "[encoded data removed]",
      "text/plain": [
       "<Figure size 640x480 with 1 Axes>"
      ]
     },
     "metadata": {},
     "output_type": "display_data"
    }
   ],
   "source": [
    "import matplotlib.pyplot as plt\n",
    "\n",
    "# Sample data\n",
    "x = [1, 2, 3, 4, 5]\n",
    "y = [10, 20, 25, 30, 40]\n",
    "\n",
    "plt.plot(x, y, marker='o', linestyle='-', color='b')\n",
    "plt.xlabel(\"X-axis\")\n",
    "plt.ylabel(\"Y-axis\")\n",
    "plt.title(\"Simple Line Graph\")\n",
    "plt.show()"
   ]
  },
  {
   "cell_type": "markdown",
   "id": "eaf6ffdb-14c9-4cb1-b3f9-6d49097dbff3",
   "metadata": {},
   "source": [
    "### Seaborn (Statistical Data Visualization)\n",
    "Built on Matplotlib, used for advanced statistical plotting."
   ]
  },
  {
   "cell_type": "code",
   "execution_count": 6,
   "id": "4c16da52-83f2-4468-b6ab-70a81bbc3df6",
   "metadata": {},
   "outputs": [
    {
     "data": {
      "image/png": "[encoded data removed]",
      "text/plain": [
       "<Figure size 640x480 with 1 Axes>"
      ]
     },
     "metadata": {},
     "output_type": "display_data"
    }
   ],
   "source": [
    "import seaborn as sns\n",
    "import numpy as np\n",
    "\n",
    "data = np.random.randn(1000)\n",
    "\n",
    "sns.histplot(data, bins=30, kde=True)\n",
    "plt.title(\"Histogram\")\n",
    "plt.show()"
   ]
  },
  {
   "cell_type": "markdown",
   "id": "1fced3f5-136b-4a0f-b086-45def9e190c7",
   "metadata": {},
   "source": [
    "### Scikit-learn (Machine Learning)\n",
    "Provides machine learning algorithms like regression, classification, and clustering."
   ]
  },
  {
   "cell_type": "code",
   "execution_count": 7,
   "id": "f8cc75ef-bb1b-436b-b483-446fe22ed44f",
   "metadata": {},
   "outputs": [
    {
     "name": "stdout",
     "output_type": "stream",
     "text": [
      "Prediction for input 6: [12.]\n"
     ]
    }
   ],
   "source": [
    "from sklearn.linear_model import LinearRegression\n",
    "import numpy as np\n",
    "\n",
    "# Sample dataset\n",
    "X = np.array([1, 2, 3, 4, 5]).reshape(-1, 1)\n",
    "y = np.array([2, 4, 6, 8, 10])\n",
    "\n",
    "# Creating and training the model\n",
    "model = LinearRegression()\n",
    "model.fit(X, y)\n",
    "\n",
    "# Predicting\n",
    "pred = model.predict([[6]])\n",
    "print(\"Prediction for input 6:\", pred)"
   ]
  },
  {
   "cell_type": "code",
   "execution_count": null,
   "id": "b72c5460-0dfd-4605-a424-9d97d6dbbb2c",
   "metadata": {},
   "outputs": [],
   "source": []
  }
 ],
 "metadata": {
  "kernelspec": {
   "display_name": "Python 3 (ipykernel)",
   "language": "python",
   "name": "python3"
  },
  "language_info": {
   "codemirror_mode": {
    "name": "ipython",
    "version": 3
   },
   "file_extension": ".py",
   "mimetype": "text/x-python",
   "name": "python",
   "nbconvert_exporter": "python",
   "pygments_lexer": "ipython3",
   "version": "3.12.7"
  }
 },
 "nbformat": 4,
 "nbformat_minor": 5
}
